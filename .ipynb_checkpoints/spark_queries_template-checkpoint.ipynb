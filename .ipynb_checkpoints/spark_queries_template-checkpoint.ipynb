{
 "cells": [
  {
   "cell_type": "markdown",
   "id": "181bbe29-26f4-4c4a-a9e9-0053263bff52",
   "metadata": {},
   "source": [
    "# Assignment 1: Scalable Processing\n",
    "## Yelp Reviews and Authenticity\n",
    "\n",
    "Big Data Management | by ___ | ____@itu.dk | date"
   ]
  },
  {
   "cell_type": "markdown",
   "id": "92690678-bb97-43d7-ab27-4a6f8db87079",
   "metadata": {},
   "source": [
    "## Connecting to the Spark Cluster job using the two JobParameters.json\n",
    "\n",
    "To connect this jupyter notebook with your Spark cluster, we need to tell jupyter how it can access the spark cluster. Below code accomplishes that. Do not worry about how it works, just run the cell once to connect. "
   ]
  },
  {
   "cell_type": "code",
   "execution_count": 1,
   "id": "d483a774-a0ca-4873-a2ee-51d2fcd30ead",
   "metadata": {
    "execution": {
     "iopub.execute_input": "2025-10-24T17:49:53.666769Z",
     "iopub.status.busy": "2025-10-24T17:49:53.666084Z",
     "iopub.status.idle": "2025-10-24T17:50:13.002833Z",
     "shell.execute_reply": "2025-10-24T17:50:13.001764Z",
     "shell.execute_reply.started": "2025-10-24T17:49:53.666710Z"
    },
    "tags": []
   },
   "outputs": [
    {
     "data": {
      "application/javascript": [
       "alert(\"Warning: Found these files ['job-0.sh', 'stdout-0.log'] that should (most likely) be moved inside your Home folder. Make sure your Git repository and notebooks are all saved inside your Home folder and not at the 'root'/top of filesystem. Please move your files to prevent them from disappearing.\")"
      ],
      "text/plain": [
       "<IPython.core.display.Javascript object>"
      ]
     },
     "metadata": {},
     "output_type": "display_data"
    },
    {
     "name": "stdout",
     "output_type": "stream",
     "text": [
      "Cell has not been executed before. Please restart the UCloud jobs if any error message pops up. Running setup cell now.\n",
      "Success!\n"
     ]
    }
   ],
   "source": [
    "#####################################################################\n",
    "# DO NOT CHANGE ANYTHING HERE.\n",
    "# IF YOU HAVE PROBLEMS, CHECK THE ASSIGNMENT GUIDE CAREFULLY \n",
    "#####################################################################\n",
    "from IPython.display import Javascript, display\n",
    "import jupyterlab\n",
    "import os, json, pyspark\n",
    "from pyspark.sql import SparkSession, functions as F\n",
    "from pyspark.conf import SparkConf\n",
    "from py4j.protocol import Py4JJavaError\n",
    "\n",
    "\n",
    "def show_popup(message):\n",
    "    display(Javascript(f'alert(\"{message}\")'))\n",
    "\n",
    "def check_correct_file_location():\n",
    "    items = os.listdir('/work')\n",
    "    items_expected = ['yelp', 'Home','JobParameters.json', 'emails']\n",
    "    if sorted(items) != sorted(items_expected):\n",
    "        items_to_be_moved = [item for item in items if item not in items_expected and item[0] != '.'] # Ignore hidden files starting with .\n",
    "        show_popup(f\"Warning: Found these files {items_to_be_moved} that should (most likely) be moved inside your Home folder. Make sure your Git repository and notebooks are all saved inside your Home folder and not at the 'root'/top of filesystem. Please move your files to prevent them from disappearing.\")\n",
    "    if 'emails' not in items_expected:\n",
    "        show_popup(f'Error: the folder \"emails\" does not seem to be accessible - did you remeber to add it to the Spark Cluster job and JupyterLab job?')\n",
    "    \n",
    "check_correct_file_location()\n",
    "\n",
    "SUPPORTED_SPARK_VERSION = \"3.3.1\"\n",
    "SUPPORTED_JUPYTERLAB_VERSION = \"3.5.1\"\n",
    "if jupyterlab.__version__ != SUPPORTED_JUPYTERLAB_VERSION:\n",
    "    show_popup(f\"Wrong JupyterLab version :( When starting the UCloud job you selected {jupyterlab.__version__} but it should have been {SUPPORTED_JUPYTERLAB_VERSION}\")\n",
    "    show_popup(\"Please shutdown this JupyterLab job and follow the instructions carefully in the UCloud setup guide PDF on LearnIT\") \n",
    "elif '_EXECUTED_' in globals(): # Only execute this cell once.\n",
    "    # check if variable '_EXECUTED_' exists in the global variable namespace\n",
    "    print(\"Already been executed once, not running again!\")\n",
    "else:\n",
    "    print(\"Cell has not been executed before. Please restart the UCloud jobs if any error message pops up. Running setup cell now.\")\n",
    "    # Two files are automatically read: JobParameters.json for the Spark Cluster job using a temporary spark instance\n",
    "    # and JobParameters.json for the Jupyter Lab job to extract the hostname of the cluster. \n",
    "\n",
    "    MASTER_HOST_NAME = None\n",
    "\n",
    "    # Open the parameters Jupyter Lab app was launched with\n",
    "    with open('/work/JobParameters.json', 'r') as file:\n",
    "        JUPYTER_LAB_JOB_PARAMS = json.load(file)\n",
    "        # from pprint import pprint; pprint(JUPYTER_LAB_JOB_PARAMS) \n",
    "        for resource in JUPYTER_LAB_JOB_PARAMS['request']['resources']:\n",
    "            if 'hostname' in resource.keys():\n",
    "                MASTER_HOST_NAME = resource['hostname']\n",
    "\n",
    "    if MASTER_HOST_NAME != \"spark-cluster\":\n",
    "        msg = f\"The JupyterLab job was started using spark hostname {MASTER_HOST_NAME}. This is not recommended, please start it using spark-cluster instead\"\n",
    "        show_popup(msg)\n",
    "        print(msg)\n",
    "    else:\n",
    "        MASTER_HOST = f\"spark://{MASTER_HOST_NAME}:7077\"\n",
    "\n",
    "        conf = SparkConf().setAll([\n",
    "                (\"spark.app.name\", 'reading_job_params_app'), \n",
    "                (\"spark.master\", MASTER_HOST),\n",
    "            ])\n",
    "\n",
    "        spark = SparkSession.builder.config(conf=conf)\\\n",
    "                                    .getOrCreate()\n",
    "        \n",
    "        if spark.version != SUPPORTED_SPARK_VERSION:\n",
    "            show_popup(f\"Wrong Spark Cluster version :( When starting the UCloud job you selected {spark.version} but it should have been {SUPPORTED_SPARK_VERSION}\")\n",
    "            show_popup(\"Please shutdown this JupyterLab job, the Spark Cluster and follow the instructions carefully in the UCloud setup guide PDF on LearnIT\") \n",
    "\n",
    "        CLUSTER_PARAMETERS_JSON_DF = spark.read.option(\"multiline\",\"true\").json('/work/JobParameters.json')\n",
    "        \n",
    "        # Extract cluster info from the specific JobParameters.json\n",
    "        NODES = CLUSTER_PARAMETERS_JSON_DF.select(\"request.replicas\").first()[0]\n",
    "        CPUS_PER_NODE = CLUSTER_PARAMETERS_JSON_DF.select(\"machineType.cpu\").first()[0] - 1\n",
    "        MEM_PER_NODE = CLUSTER_PARAMETERS_JSON_DF.select(\"machineType.memoryInGigs\").first()[0]\n",
    "\n",
    "        CLUSTER_CORES_MAX = CPUS_PER_NODE * NODES\n",
    "        CLUSTER_MEMORY_MAX = MEM_PER_NODE * NODES \n",
    "        \n",
    "        if CPUS_PER_NODE > 1:\n",
    "            EXECUTOR_CORES = CPUS_PER_NODE - 1  # set cores per executor on worker node\n",
    "        else:\n",
    "            EXECUTOR_CORES = CPUS_PER_NODE \n",
    "\n",
    "        try:\n",
    "            EXECUTOR_MEMORY = int(\n",
    "                MEM_PER_NODE / (CPUS_PER_NODE / EXECUTOR_CORES) * 0.5\n",
    "            )  # set executor memory in GB on each worker node\n",
    "        except ZeroDivisionError:\n",
    "            show_popup(f\"Please make sure you selected 3 nodes for the Spark Cluster, each with 24 GB of ram. You selected {MEM_PER_NODE} GB ram and {NODES} node(s)\")\n",
    "            \n",
    "        # Make sure there is a dir for spark logs\n",
    "        if not os.path.exists('spark_logs'):\n",
    "            os.mkdir('spark_logs')\n",
    "\n",
    "        conf = SparkConf().setAll(\n",
    "            [\n",
    "                (\"spark.app.name\", 'spark_assignment'), # Change to your liking \n",
    "                (\"spark.sql.caseSensitive\", False), # Optional: Make queries strings sensitive to captialization\n",
    "                (\"spark.master\", MASTER_HOST),\n",
    "                (\"spark.cores.max\", CLUSTER_CORES_MAX),\n",
    "                (\"spark.executor.cores\", EXECUTOR_CORES),\n",
    "                (\"spark.executor.memory\", str(EXECUTOR_MEMORY) + \"g\"),\n",
    "                (\"spark.eventLog.enabled\", True),\n",
    "                (\"spark.eventLog.dir\", \"spark_logs\"),\n",
    "                (\"spark.history.fs.logDirectory\", \"spark_logs\"),\n",
    "                (\"spark.deploy.mode\", \"cluster\"),\n",
    "            ]\n",
    "        )\n",
    "\n",
    "        ## check executor memory, taking into accout 10% of memory overhead (minimum 384 MiB)\n",
    "        CHECK = (CLUSTER_CORES_MAX / EXECUTOR_CORES) * (\n",
    "            EXECUTOR_MEMORY + max(EXECUTOR_MEMORY * 0.10, 0.403)\n",
    "        )\n",
    "\n",
    "        assert (\n",
    "            int(CHECK) <= CLUSTER_MEMORY_MAX\n",
    "        ), \"Executor memory larger than cluster total memory!\"\n",
    "\n",
    "        # Stop previous session that was just for loading cluster params\n",
    "        spark.stop()\n",
    "\n",
    "        # Start new session with above config, that has better resource handling\n",
    "        spark = SparkSession.builder.config(conf=conf)\\\n",
    "                                    .getOrCreate()\n",
    "        sc = spark.sparkContext\n",
    "        _EXECUTED_ = True\n",
    "        print(\"Success!\")"
   ]
  },
  {
   "cell_type": "markdown",
   "id": "93bbb4de-8b40-4364-b8d3-2cc488b16cbf",
   "metadata": {},
   "source": [
    "Click on the \"SparkMonitor\" tab at the top in Jupyter Lab to see the status of running code on the cluster."
   ]
  },
  {
   "cell_type": "code",
   "execution_count": 45,
   "id": "35bd315b-35c2-4458-89ce-47a4ab5fa553",
   "metadata": {
    "execution": {
     "iopub.execute_input": "2025-10-24T18:39:39.518901Z",
     "iopub.status.busy": "2025-10-24T18:39:39.518053Z",
     "iopub.status.idle": "2025-10-24T18:39:39.883774Z",
     "shell.execute_reply": "2025-10-24T18:39:39.883089Z",
     "shell.execute_reply.started": "2025-10-24T18:39:39.518844Z"
    }
   },
   "outputs": [],
   "source": [
    "from pyspark.sql import functions as F\n",
    "import matplotlib.pyplot as plt\n",
    "import seaborn as sns"
   ]
  },
  {
   "cell_type": "markdown",
   "id": "b1de3dec-d95c-44b9-a996-12e97cc34c2b",
   "metadata": {},
   "source": [
    "## Loading the data\n",
    "Here we specify where the yelp datasets are located on UCloud and read then using the spark session."
   ]
  },
  {
   "cell_type": "code",
   "execution_count": 2,
   "id": "5fa96702-5902-4482-9cd2-77d6f5da0f75",
   "metadata": {
    "execution": {
     "iopub.execute_input": "2025-10-24T17:51:32.069370Z",
     "iopub.status.busy": "2025-10-24T17:51:32.068687Z",
     "iopub.status.idle": "2025-10-24T17:51:46.690563Z",
     "shell.execute_reply": "2025-10-24T17:51:46.688827Z",
     "shell.execute_reply.started": "2025-10-24T17:51:32.069318Z"
    },
    "tags": []
   },
   "outputs": [],
   "source": [
    "# Read in the business and review files\n",
    "# This is the path to the shared datasets provided by adding an the dataset input folder\n",
    "# when submitting the spark cluster job.\n",
    "business = spark.read.json('file:////work/yelp/yelp_academic_dataset_business.json') # Use the file:/// prefix to indicate we want to read from the cluster's filesystem\n",
    "business = business.persist()\n",
    "# Persist 2 commonly used dataframes since they're used for later computations\n",
    "# https://sparkbyexamples.com/spark/spark-difference-between-cache-and-persist/\n",
    "\n",
    "users = spark.read.json(\"file:////work/yelp/yelp_academic_dataset_user.json\")\n",
    "\n",
    "reviews = spark.read.json('file:////work/yelp/yelp_academic_dataset_review.json')\n",
    "reviews = reviews.persist()"
   ]
  },
  {
   "cell_type": "markdown",
   "id": "3a303b5b",
   "metadata": {},
   "source": [
    "## PySpark example usage"
   ]
  },
  {
   "cell_type": "code",
   "execution_count": 3,
   "id": "235e5257-1a0e-4189-87fc-075ff2858c54",
   "metadata": {
    "execution": {
     "iopub.execute_input": "2025-10-24T17:51:46.711500Z",
     "iopub.status.busy": "2025-10-24T17:51:46.711291Z",
     "iopub.status.idle": "2025-10-24T17:51:49.303455Z",
     "shell.execute_reply": "2025-10-24T17:51:49.302756Z",
     "shell.execute_reply.started": "2025-10-24T17:51:46.711482Z"
    },
    "tags": []
   },
   "outputs": [
    {
     "name": "stdout",
     "output_type": "stream",
     "text": [
      "+--------------------+----+-------------------+-----+--------------------+-----+--------------------+------+--------------------+\n",
      "|         business_id|cool|               date|funny|           review_id|stars|                text|useful|             user_id|\n",
      "+--------------------+----+-------------------+-----+--------------------+-----+--------------------+------+--------------------+\n",
      "|XQfwVwDr-v0ZS3_Cb...|   0|2018-07-07 22:09:11|    0|KU_O5udG6zpxOg-Vc...|  3.0|If you decide to ...|     0|mh_-eMZ6K5RLWhZyI...|\n",
      "|7ATYjTIgM3jUlt4UM...|   1|2012-01-03 15:28:18|    0|BiTunyQ73aT9WBnpR...|  5.0|I've taken a lot ...|     1|OyoGAe7OKpv6SyGZT...|\n",
      "|YjUWPpI6HXG530lwP...|   0|2014-02-05 20:30:30|    0|saUsX_uimxRlCVr67...|  3.0|Family diner. Had...|     0|8g_iMtfSiwikVnbP2...|\n",
      "|kxX2SOes4o-D3ZQBk...|   1|2015-01-04 00:01:03|    0|AqPFMleE6RsU23_au...|  5.0|Wow!  Yummy, diff...|     1|_7bHUi9Uuf5__HHc_...|\n",
      "|e4Vwtrqf-wpJfwesg...|   1|2017-01-14 20:54:15|    0|Sx8TMOWLNuJBWer-0...|  4.0|Cute interior and...|     1|bcjbaE6dDog4jkNY9...|\n",
      "|04UD14gamNjLY0IDY...|   1|2015-09-23 23:10:31|    2|JrIxlS1TzJ-iCu79u...|  1.0|I am a long term ...|     1|eUta8W_HdHMXPzLBB...|\n",
      "|gmjsEdUsKpj9Xxu6p...|   0|2015-01-03 23:21:18|    2|6AxgBCNX_PNTOxmbR...|  5.0|Loved this tour! ...|     0|r3zeYsv1XFBRA4dJp...|\n",
      "|LHSTtnW3YHCeUkRDG...|   0|2015-08-07 02:29:16|    0|_ZeMknuYdlQcUqng_...|  5.0|Amazingly amazing...|     2|yfFzsLmaWF2d4Sr0U...|\n",
      "|B5XSoSG3SfvQGtKEG...|   0|2016-03-30 22:46:33|    1|ZKvDG2sBvHVdF5oBN...|  3.0|This easter inste...|     1|wSTuiTk-sKNdcFypr...|\n",
      "|gebiRewfieSdtt17P...|   0|2016-07-25 07:31:06|    0|pUycOfUwM8vqX7KjR...|  3.0|Had a party of 6 ...|     0|59MxRhNVhU9MYndMk...|\n",
      "|uMvVYRgGNXf5boolA...|   0|2015-06-21 14:48:06|    0|rGQRf8UafX7OTlMNN...|  5.0|My experience wit...|     2|1WHRWwQmZOZDAhp2Q...|\n",
      "|EQ-TZ2eeD_E0BHuvo...|   0|2015-08-19 14:31:45|    0|l3Wk_mvAog6XANIuG...|  4.0|Locals recommende...|     0|ZbqSHbgCjzVAqaa7N...|\n",
      "|lj-E32x9_FA7GmUrB...|   0|2014-06-27 22:44:01|    0|XW_LfMv0fV21l9c6x...|  4.0|Love going here f...|     0|9OAtfnWag-ajVxRbU...|\n",
      "|RZtGWDLCAtuipwaZ-...|   0|2009-10-14 19:57:14|    0|8JFGBuHMoiNDyfcxu...|  4.0|Good food--loved ...|     0|smOvOajNG0lS4Pq7d...|\n",
      "|otQS34_MymijPTdNB...|   0|2011-10-27 17:12:05|    2|UBp0zWyH60Hmw6Fsa...|  4.0|The bun makes the...|     0|4Uh27DgGzsp6PqrH9...|\n",
      "|BVndHaLihEYbr76Z0...|   0|2014-10-11 16:22:06|    0|OAhBYw8IQ6wlfw1ow...|  5.0|Great place for b...|     0|1C2lxzUo1Hyye4RFI...|\n",
      "|YtSqYv1Q_pOltsVPS...|   0|2013-06-24 11:21:25|    0|oyaMhzBSwfGgemSGu...|  5.0|Tremendous servic...|     0|Dd1jQj7S-BFGqRbAp...|\n",
      "|rBdG_23USc7DletfZ...|   0|2014-08-10 19:41:43|    0|LnGZB0fjfgeVDVz5I...|  4.0|The hubby and I h...|     1|j2wlzrntrbKwyOcOi...|\n",
      "|CLEWowfkj-wKYJlQD...|   1|2016-03-07 00:02:18|    0|u2vzZaOqJ2feRshaa...|  5.0|I go to blow bar ...|     2|NDZvyYHTUWWu-kqgQ...|\n",
      "|eFvzHawVJofxSnD7T...|   0|2014-11-12 15:30:27|    0|Xs8Z8lmKkosqW5mw_...|  5.0|My absolute favor...|     0|IQsF3Rc6IgCzjVV9D...|\n",
      "+--------------------+----+-------------------+-----+--------------------+-----+--------------------+------+--------------------+\n",
      "only showing top 20 rows\n",
      "\n"
     ]
    }
   ],
   "source": [
    "# Show PySpark dataframes:\n",
    "reviews.show()"
   ]
  },
  {
   "cell_type": "code",
   "execution_count": 4,
   "id": "afd9630e-1dd0-4abf-9952-bd7e252a8061",
   "metadata": {
    "execution": {
     "iopub.execute_input": "2025-10-24T17:51:52.396443Z",
     "iopub.status.busy": "2025-10-24T17:51:52.395383Z",
     "iopub.status.idle": "2025-10-24T17:51:53.491755Z",
     "shell.execute_reply": "2025-10-24T17:51:53.489944Z",
     "shell.execute_reply.started": "2025-10-24T17:51:52.396385Z"
    },
    "tags": []
   },
   "outputs": [
    {
     "name": "stdout",
     "output_type": "stream",
     "text": [
      "+--------------------+--------------------+--------------------+--------------------+--------------+--------------------+-------+-------------+--------------+--------------------+-----------+------------+-----+-----+\n",
      "|             address|          attributes|         business_id|          categories|          city|               hours|is_open|     latitude|     longitude|                name|postal_code|review_count|stars|state|\n",
      "+--------------------+--------------------+--------------------+--------------------+--------------+--------------------+-------+-------------+--------------+--------------------+-----------+------------+-----+-----+\n",
      "|1616 Chapala St, ...|{null, null, null...|Pns2l4eNsfO8kk83d...|Doctors, Traditio...| Santa Barbara|                null|      0|   34.4266787|  -119.7111968|Abby Rappoport, L...|      93101|           7|  5.0|   CA|\n",
      "|87 Grasso Plaza S...|{null, null, null...|mpf3x-BjTdTEA3yCZ...|Shipping Centers,...|        Affton|{8:0-18:30, 0:0-0...|      1|    38.551126|    -90.335695|       The UPS Store|      63123|          15|  3.0|   MO|\n",
      "|5255 E Broadway Blvd|{null, null, null...|tUFrWirKiKi_TAnsV...|Department Stores...|        Tucson|{8:0-23:0, 8:0-22...|      0|    32.223236|   -110.880452|              Target|      85711|          22|  3.5|   AZ|\n",
      "|         935 Race St|{null, null, u'no...|MTSW4McQd7CbVtyjq...|Restaurants, Food...|  Philadelphia|{7:0-21:0, 7:0-20...|      1|   39.9555052|   -75.1555641|  St Honore Pastries|      19107|          80|  4.0|   PA|\n",
      "|       101 Walnut St|{null, null, null...|mWMc6_wTdE0EUBKIG...|Brewpubs, Breweri...|    Green Lane|{12:0-22:0, null,...|      1|   40.3381827|   -75.4716585|Perkiomen Valley ...|      18054|          13|  4.5|   PA|\n",
      "|       615 S Main St|{null, null, u'no...|CF33F8-E6oudUQ46H...|Burgers, Fast Foo...|  Ashland City|{9:0-0:0, 0:0-0:0...|      1|    36.269593|    -87.058943|      Sonic Drive-In|      37015|           6|  2.0|   TN|\n",
      "|8522 Eager Road, ...|{null, null, null...|n_0UpQx1hsNbnPUSl...|Sporting Goods, F...|     Brentwood|{10:0-18:0, 0:0-0...|      1|    38.627695|    -90.340465|     Famous Footwear|      63144|          13|  2.5|   MO|\n",
      "|  400 Pasadena Ave S|                null|qkRM_2X51Yqxk3btl...|Synagogues, Relig...|St. Petersburg|{9:0-17:0, 9:0-17...|      1|     27.76659|    -82.732983|      Temple Beth-El|      33707|           5|  3.5|   FL|\n",
      "|   8025 Mackenzie Rd|{null, null, u'fu...|k0hlBqXX-Bt0vf1op...|Pubs, Restaurants...|        Affton|                null|      0|   38.5651648|   -90.3210868|Tsevi's Pub And G...|      63123|          19|  3.0|   MO|\n",
      "| 2312 Dickerson Pike|{null, null, u'no...|bBDDEgkFA1Otx9Lfe...|Ice Cream & Froze...|     Nashville|{6:0-16:0, 0:0-0:...|      1|   36.2081024|   -86.7681696|      Sonic Drive-In|      37207|          10|  1.5|   TN|\n",
      "|21705 Village Lak...|{null, null, null...|UJsufbvfyfONHeWdv...|Department Stores...| Land O' Lakes|{9:30-21:30, 9:30...|      1|28.1904587953|-82.4573802199|           Marshalls|      34639|           6|  3.5|   FL|\n",
      "|                    |{null, null, 'non...|eEOYSgkmpB90uNA7l...|Vietnamese, Food,...|     Tampa Bay|{11:0-14:0, 11:0-...|      1|   27.9552692|   -82.4563199|Vietnamese Food T...|      33602|          10|  4.0|   FL|\n",
      "|        8901 US 31 S|{null, null, 'non...|il_Ro8jwPlHresjw9...|American (Traditi...|  Indianapolis|{6:0-22:0, 6:0-22...|      1|39.6371332838| -86.127217412|             Denny's|      46227|          28|  2.5|   IN|\n",
      "|   15 N Missouri Ave|{null, null, null...|jaxMSoInw8Poo3XeM...|General Dentistry...|    Clearwater|{null, 7:30-15:30...|      1|    27.966235|    -82.787412|        Adams Dental|      33755|          10|  5.0|   FL|\n",
      "|       2575 E Bay Dr|{null, null, u'no...|0bPLkL0QhhPO5kt1_...|Food, Delis, Ital...|         Largo|{10:0-20:0, 10:0-...|      0|   27.9161159|   -82.7604608|Zio's Italian Market|      33771|         100|  4.5|   FL|\n",
      "|         205 Race St|{null, null, 'ful...|MUTTqe8uqyMdBl186...|Sushi Bars, Resta...|  Philadelphia|{13:30-23:0, null...|      1|    39.953949|   -75.1432262|            Tuna Bar|      19106|         245|  4.0|   PA|\n",
      "|     625 N Stone Ave|{null, null, null...|rBmpy_Y1UbBx8ggHl...|Automotive, Auto ...|        Tucson|{8:0-17:0, 0:0-0:...|      1|   32.2298719|  -110.9723419|Arizona Truck Out...|      85705|          10|  4.5|   AZ|\n",
      "|        712 Adams St|{null, null, null...|M0XSSHqrASOnhgbWD...|Vape Shops, Tobac...|   New Orleans|{10:0-19:0, 10:0-...|      1|29.9414679565| -90.129952757|      Herb Import Co|      70118|           5|  4.0|   LA|\n",
      "|     1241 Airline Dr|                null|8wGISYjYkE2tSqn3c...|Automotive, Car R...|        Kenner|{8:0-17:0, 8:0-17...|      1|    29.981183|   -90.2540123|    Nifty Car Rental|      70062|          14|  3.5|   LA|\n",
      "|       1224 South St|{null, null, u'no...|ROeacJQwBeh05Rqg7...| Korean, Restaurants|  Philadelphia|{11:30-20:30, 11:...|      1|    39.943223|    -75.162568|                 BAP|      19147|         205|  4.5|   PA|\n",
      "+--------------------+--------------------+--------------------+--------------------+--------------+--------------------+-------+-------------+--------------+--------------------+-----------+------------+-----+-----+\n",
      "only showing top 20 rows\n",
      "\n"
     ]
    }
   ],
   "source": [
    "business.show()"
   ]
  },
  {
   "cell_type": "code",
   "execution_count": 35,
   "id": "01658d41-7306-4b07-b8d6-57ec22e2ee4f",
   "metadata": {
    "execution": {
     "iopub.execute_input": "2025-10-24T18:33:12.264419Z",
     "iopub.status.busy": "2025-10-24T18:33:12.263611Z",
     "iopub.status.idle": "2025-10-24T18:33:12.273922Z",
     "shell.execute_reply": "2025-10-24T18:33:12.272932Z",
     "shell.execute_reply.started": "2025-10-24T18:33:12.264366Z"
    }
   },
   "outputs": [
    {
     "data": {
      "text/plain": [
       "['address',\n",
       " 'attributes',\n",
       " 'business_id',\n",
       " 'categories',\n",
       " 'city',\n",
       " 'hours',\n",
       " 'is_open',\n",
       " 'latitude',\n",
       " 'longitude',\n",
       " 'name',\n",
       " 'postal_code',\n",
       " 'review_count',\n",
       " 'stars',\n",
       " 'state']"
      ]
     },
     "execution_count": 35,
     "metadata": {},
     "output_type": "execute_result"
    }
   ],
   "source": [
    "business.columns"
   ]
  },
  {
   "cell_type": "code",
   "execution_count": 5,
   "id": "e89f6184-410e-4a04-a4a1-7b080353dc1f",
   "metadata": {
    "execution": {
     "iopub.execute_input": "2025-10-24T17:51:55.986441Z",
     "iopub.status.busy": "2025-10-24T17:51:55.985782Z",
     "iopub.status.idle": "2025-10-24T17:52:09.312397Z",
     "shell.execute_reply": "2025-10-24T17:52:09.311037Z",
     "shell.execute_reply.started": "2025-10-24T17:51:55.986390Z"
    },
    "tags": []
   },
   "outputs": [
    {
     "data": {
      "text/plain": [
       "6990280"
      ]
     },
     "execution_count": 5,
     "metadata": {},
     "output_type": "execute_result"
    }
   ],
   "source": [
    "# Get number of rows with no sampling:\n",
    "reviews.count()"
   ]
  },
  {
   "cell_type": "code",
   "execution_count": 6,
   "id": "397bf37c-5d1f-43a8-8334-aed7ba84f09d",
   "metadata": {
    "execution": {
     "iopub.execute_input": "2025-10-24T17:58:38.959551Z",
     "iopub.status.busy": "2025-10-24T17:58:38.958368Z",
     "iopub.status.idle": "2025-10-24T17:58:38.968338Z",
     "shell.execute_reply": "2025-10-24T17:58:38.967223Z",
     "shell.execute_reply.started": "2025-10-24T17:58:38.959489Z"
    }
   },
   "outputs": [
    {
     "data": {
      "text/plain": [
       "['business_id',\n",
       " 'cool',\n",
       " 'date',\n",
       " 'funny',\n",
       " 'review_id',\n",
       " 'stars',\n",
       " 'text',\n",
       " 'useful',\n",
       " 'user_id']"
      ]
     },
     "execution_count": 6,
     "metadata": {},
     "output_type": "execute_result"
    }
   ],
   "source": [
    "reviews.columns"
   ]
  },
  {
   "cell_type": "code",
   "execution_count": 8,
   "id": "95d9714d-742e-401f-9f7b-57701f431646",
   "metadata": {
    "execution": {
     "iopub.execute_input": "2025-10-24T18:01:14.472595Z",
     "iopub.status.busy": "2025-10-24T18:01:14.471958Z",
     "iopub.status.idle": "2025-10-24T18:01:20.277269Z",
     "shell.execute_reply": "2025-10-24T18:01:20.275537Z",
     "shell.execute_reply.started": "2025-10-24T18:01:14.472545Z"
    },
    "tags": []
   },
   "outputs": [
    {
     "name": "stdout",
     "output_type": "stream",
     "text": [
      "+--------------------+----+-------------------+-----+--------------------+-----+--------------------+------+--------------------+----------------+--------------------+--------------------+---------------+--------------------+-------+----------+-----------+-----------------+-----------+------------+-----+-----+\n",
      "|         business_id|cool|               date|funny|           review_id|stars|                text|useful|             user_id|         address|          attributes|          categories|           city|               hours|is_open|  latitude|  longitude|             name|postal_code|review_count|stars|state|\n",
      "+--------------------+----+-------------------+-----+--------------------+-----+--------------------+------+--------------------+----------------+--------------------+--------------------+---------------+--------------------+-------+----------+-----------+-----------------+-----------+------------+-----+-----+\n",
      "|---kPU91CF4Lq2-Wl...|   1|2021-03-06 01:39:34|    0|ROpgxHN-NOZ3zSFMZ...|  3.0|This is a food tr...|     1|V8oYXtc0hMuYzG5Hf...|4903 State Rd 54|{null, null, u'no...|Seafood, Restaura...|New Port Richey|{11:0-22:0, 0:0-0...|      1|28.2172884|-82.7333444|Frankie's Raw Bar|      34652|          24|  4.5|   FL|\n",
      "|---kPU91CF4Lq2-Wl...|   0|2020-03-18 01:34:18|    0|rljdEt4_jgsqOgG-7...|  5.0|Great place for g...|     2|qrCkKrEwQ-q9m1iWS...|4903 State Rd 54|{null, null, u'no...|Seafood, Restaura...|New Port Richey|{11:0-22:0, 0:0-0...|      1|28.2172884|-82.7333444|Frankie's Raw Bar|      34652|          24|  4.5|   FL|\n",
      "|---kPU91CF4Lq2-Wl...|   1|2020-12-12 17:48:38|    0|JnfAi8vz8lcN63lvf...|  5.0|Blown away how fu...|     1|UmQDlaIjLiPBZ7M6U...|4903 State Rd 54|{null, null, u'no...|Seafood, Restaura...|New Port Richey|{11:0-22:0, 0:0-0...|      1|28.2172884|-82.7333444|Frankie's Raw Bar|      34652|          24|  4.5|   FL|\n",
      "+--------------------+----+-------------------+-----+--------------------+-----+--------------------+------+--------------------+----------------+--------------------+--------------------+---------------+--------------------+-------+----------+-----------+-----------------+-----------+------------+-----+-----+\n",
      "only showing top 3 rows\n",
      "\n"
     ]
    }
   ],
   "source": [
    "buss_review = reviews.join(business, on = \"business_id\", how='inner')\n",
    "buss_review.show(3)"
   ]
  },
  {
   "cell_type": "code",
   "execution_count": 10,
   "id": "d8b32bbd-e174-4fb2-bc12-abfff9f67a7f",
   "metadata": {
    "execution": {
     "iopub.execute_input": "2025-10-24T18:02:58.704351Z",
     "iopub.status.busy": "2025-10-24T18:02:58.703530Z",
     "iopub.status.idle": "2025-10-24T18:03:06.087349Z",
     "shell.execute_reply": "2025-10-24T18:03:06.086464Z",
     "shell.execute_reply.started": "2025-10-24T18:02:58.704297Z"
    },
    "tags": []
   },
   "outputs": [
    {
     "data": {
      "text/html": [
       "<div>\n",
       "<style scoped>\n",
       "    .dataframe tbody tr th:only-of-type {\n",
       "        vertical-align: middle;\n",
       "    }\n",
       "\n",
       "    .dataframe tbody tr th {\n",
       "        vertical-align: top;\n",
       "    }\n",
       "\n",
       "    .dataframe thead th {\n",
       "        text-align: right;\n",
       "    }\n",
       "</style>\n",
       "<table border=\"1\" class=\"dataframe\">\n",
       "  <thead>\n",
       "    <tr style=\"text-align: right;\">\n",
       "      <th></th>\n",
       "      <th>business_id</th>\n",
       "      <th>cool</th>\n",
       "      <th>date</th>\n",
       "      <th>funny</th>\n",
       "      <th>review_id</th>\n",
       "      <th>stars</th>\n",
       "      <th>text</th>\n",
       "      <th>useful</th>\n",
       "      <th>user_id</th>\n",
       "      <th>address</th>\n",
       "      <th>...</th>\n",
       "      <th>city</th>\n",
       "      <th>hours</th>\n",
       "      <th>is_open</th>\n",
       "      <th>latitude</th>\n",
       "      <th>longitude</th>\n",
       "      <th>name</th>\n",
       "      <th>postal_code</th>\n",
       "      <th>review_count</th>\n",
       "      <th>stars</th>\n",
       "      <th>state</th>\n",
       "    </tr>\n",
       "  </thead>\n",
       "  <tbody>\n",
       "    <tr>\n",
       "      <th>0</th>\n",
       "      <td>---kPU91CF4Lq2-WlRu9Lw</td>\n",
       "      <td>0</td>\n",
       "      <td>2021-11-25 02:49:38</td>\n",
       "      <td>0</td>\n",
       "      <td>2HVxhnbaUfSfmC_RHjXLaQ</td>\n",
       "      <td>5.0</td>\n",
       "      <td>Hidden gem in NPR. Ordered the stone crabs, cr...</td>\n",
       "      <td>0</td>\n",
       "      <td>lEPRGtvLLfJ2BQcU_w5UuA</td>\n",
       "      <td>4903 State Rd 54</td>\n",
       "      <td>...</td>\n",
       "      <td>New Port Richey</td>\n",
       "      <td>(11:0-22:0, 0:0-0:0, 11:0-22:0, None, 11:0-21:...</td>\n",
       "      <td>1</td>\n",
       "      <td>28.217288</td>\n",
       "      <td>-82.733344</td>\n",
       "      <td>Frankie's Raw Bar</td>\n",
       "      <td>34652</td>\n",
       "      <td>24</td>\n",
       "      <td>4.5</td>\n",
       "      <td>FL</td>\n",
       "    </tr>\n",
       "    <tr>\n",
       "      <th>1</th>\n",
       "      <td>---kPU91CF4Lq2-WlRu9Lw</td>\n",
       "      <td>0</td>\n",
       "      <td>2020-08-09 19:19:16</td>\n",
       "      <td>0</td>\n",
       "      <td>hoLKem4XpXGt_X4liqW9lw</td>\n",
       "      <td>4.0</td>\n",
       "      <td>Ate here for the 1st time on Saturday 08/07/20...</td>\n",
       "      <td>0</td>\n",
       "      <td>415SXXbQrl2-VudHa3ImbQ</td>\n",
       "      <td>4903 State Rd 54</td>\n",
       "      <td>...</td>\n",
       "      <td>New Port Richey</td>\n",
       "      <td>(11:0-22:0, 0:0-0:0, 11:0-22:0, None, 11:0-21:...</td>\n",
       "      <td>1</td>\n",
       "      <td>28.217288</td>\n",
       "      <td>-82.733344</td>\n",
       "      <td>Frankie's Raw Bar</td>\n",
       "      <td>34652</td>\n",
       "      <td>24</td>\n",
       "      <td>4.5</td>\n",
       "      <td>FL</td>\n",
       "    </tr>\n",
       "    <tr>\n",
       "      <th>2</th>\n",
       "      <td>---kPU91CF4Lq2-WlRu9Lw</td>\n",
       "      <td>0</td>\n",
       "      <td>2020-09-05 20:09:03</td>\n",
       "      <td>0</td>\n",
       "      <td>gzXaxjjTnrJJuG_gqvnmuw</td>\n",
       "      <td>5.0</td>\n",
       "      <td>Absolutely fantastic!!!!  I'll be back for sur...</td>\n",
       "      <td>0</td>\n",
       "      <td>ey8tdgUgC2tFqw2dfrr0QQ</td>\n",
       "      <td>4903 State Rd 54</td>\n",
       "      <td>...</td>\n",
       "      <td>New Port Richey</td>\n",
       "      <td>(11:0-22:0, 0:0-0:0, 11:0-22:0, None, 11:0-21:...</td>\n",
       "      <td>1</td>\n",
       "      <td>28.217288</td>\n",
       "      <td>-82.733344</td>\n",
       "      <td>Frankie's Raw Bar</td>\n",
       "      <td>34652</td>\n",
       "      <td>24</td>\n",
       "      <td>4.5</td>\n",
       "      <td>FL</td>\n",
       "    </tr>\n",
       "  </tbody>\n",
       "</table>\n",
       "<p>3 rows × 22 columns</p>\n",
       "</div>"
      ],
      "text/plain": [
       "              business_id  cool                 date  funny  \\\n",
       "0  ---kPU91CF4Lq2-WlRu9Lw     0  2021-11-25 02:49:38      0   \n",
       "1  ---kPU91CF4Lq2-WlRu9Lw     0  2020-08-09 19:19:16      0   \n",
       "2  ---kPU91CF4Lq2-WlRu9Lw     0  2020-09-05 20:09:03      0   \n",
       "\n",
       "                review_id stars  \\\n",
       "0  2HVxhnbaUfSfmC_RHjXLaQ   5.0   \n",
       "1  hoLKem4XpXGt_X4liqW9lw   4.0   \n",
       "2  gzXaxjjTnrJJuG_gqvnmuw   5.0   \n",
       "\n",
       "                                                text  useful  \\\n",
       "0  Hidden gem in NPR. Ordered the stone crabs, cr...       0   \n",
       "1  Ate here for the 1st time on Saturday 08/07/20...       0   \n",
       "2  Absolutely fantastic!!!!  I'll be back for sur...       0   \n",
       "\n",
       "                  user_id           address  ...             city  \\\n",
       "0  lEPRGtvLLfJ2BQcU_w5UuA  4903 State Rd 54  ...  New Port Richey   \n",
       "1  415SXXbQrl2-VudHa3ImbQ  4903 State Rd 54  ...  New Port Richey   \n",
       "2  ey8tdgUgC2tFqw2dfrr0QQ  4903 State Rd 54  ...  New Port Richey   \n",
       "\n",
       "                                               hours is_open   latitude  \\\n",
       "0  (11:0-22:0, 0:0-0:0, 11:0-22:0, None, 11:0-21:...       1  28.217288   \n",
       "1  (11:0-22:0, 0:0-0:0, 11:0-22:0, None, 11:0-21:...       1  28.217288   \n",
       "2  (11:0-22:0, 0:0-0:0, 11:0-22:0, None, 11:0-21:...       1  28.217288   \n",
       "\n",
       "   longitude               name  postal_code review_count stars  state  \n",
       "0 -82.733344  Frankie's Raw Bar        34652           24   4.5     FL  \n",
       "1 -82.733344  Frankie's Raw Bar        34652           24   4.5     FL  \n",
       "2 -82.733344  Frankie's Raw Bar        34652           24   4.5     FL  \n",
       "\n",
       "[3 rows x 22 columns]"
      ]
     },
     "execution_count": 10,
     "metadata": {},
     "output_type": "execute_result"
    }
   ],
   "source": [
    "buss_review.limit(3).toPandas()"
   ]
  },
  {
   "cell_type": "code",
   "execution_count": 16,
   "id": "8d6ce134-7970-496d-b9d2-bbafc09738cf",
   "metadata": {
    "execution": {
     "iopub.execute_input": "2025-10-24T18:17:50.945570Z",
     "iopub.status.busy": "2025-10-24T18:17:50.944779Z",
     "iopub.status.idle": "2025-10-24T18:17:52.767830Z",
     "shell.execute_reply": "2025-10-24T18:17:52.766188Z",
     "shell.execute_reply.started": "2025-10-24T18:17:50.945518Z"
    },
    "tags": []
   },
   "outputs": [
    {
     "name": "stdout",
     "output_type": "stream",
     "text": [
      "+--------------------+--------------------+-----+\n",
      "|         business_id|                name|count|\n",
      "+--------------------+--------------------+-----+\n",
      "|kV_Q1oqis8Qli8dUo...|       Ardmore Pizza|  114|\n",
      "|Reu96YB9weBlJ3vxr...|Silver Sage Cente...|   25|\n",
      "|DVbsnj9WH8Qd5exQZ...|       Papa Murphy's|   32|\n",
      "|NcO-pWiZmNM5zBg8H...|La Tavola Ristora...|  200|\n",
      "|apgDJMu1GS4vXpNmy...|A 7th Heaven Hair...|   21|\n",
      "|a1E2BPYnufFzb6YX2...|  Wahoo's Fish Tacos|   62|\n",
      "|Ql466RUZPLvKo_Cc9...|New Kimono Sushi ...|   29|\n",
      "|GlYN-RJyL_YwxIqsS...|Mother Hubbard's ...|  263|\n",
      "|6kPHr6gZaU9732ptn...|La Guerrerita Mex...|  132|\n",
      "|qq4Zc5y76vfCxQQy4...|    The Casino Grill|   38|\n",
      "+--------------------+--------------------+-----+\n",
      "only showing top 10 rows\n",
      "\n"
     ]
    }
   ],
   "source": [
    "buss_review.groupby(['business_id', 'name']) \\\n",
    "            .count() \\\n",
    "            .show(10)"
   ]
  },
  {
   "cell_type": "code",
   "execution_count": 37,
   "id": "6746c3f0-87ab-4fbf-97d7-d9e575985030",
   "metadata": {
    "execution": {
     "iopub.execute_input": "2025-10-24T18:36:55.464434Z",
     "iopub.status.busy": "2025-10-24T18:36:55.463592Z",
     "iopub.status.idle": "2025-10-24T18:36:55.881748Z",
     "shell.execute_reply": "2025-10-24T18:36:55.880827Z",
     "shell.execute_reply.started": "2025-10-24T18:36:55.464378Z"
    },
    "tags": []
   },
   "outputs": [
    {
     "name": "stdout",
     "output_type": "stream",
     "text": [
      "+-------+----------+-----------+----------+----+-----+-------+--------+---------+----+-----------+------------+-----+-----+\n",
      "|address|attributes|business_id|categories|city|hours|is_open|latitude|longitude|name|postal_code|review_count|stars|state|\n",
      "+-------+----------+-----------+----------+----+-----+-------+--------+---------+----+-----------+------------+-----+-----+\n",
      "|      0|     13744|          0|       103|   0|23223|      0|       0|        0|   0|          0|           0|    0|    0|\n",
      "+-------+----------+-----------+----------+----+-----+-------+--------+---------+----+-----------+------------+-----+-----+\n",
      "\n"
     ]
    }
   ],
   "source": [
    "null_counts = business.select([\n",
    "    F.count(F.when(F.col(c).isNull(), c)).alias(c) for c in business.columns\n",
    "])\n",
    "null_counts.show()"
   ]
  },
  {
   "cell_type": "code",
   "execution_count": 46,
   "id": "5b72bd86-3181-4ee2-a767-479559eb6617",
   "metadata": {
    "execution": {
     "iopub.execute_input": "2025-10-24T18:39:44.045986Z",
     "iopub.status.busy": "2025-10-24T18:39:44.045201Z",
     "iopub.status.idle": "2025-10-24T18:39:45.551427Z",
     "shell.execute_reply": "2025-10-24T18:39:45.549535Z",
     "shell.execute_reply.started": "2025-10-24T18:39:44.045933Z"
    },
    "tags": []
   },
   "outputs": [
    {
     "data": {
      "image/png": "[encoded data removed]",
      "text/plain": [
       "<Figure size 800x500 with 1 Axes>"
      ]
     },
     "metadata": {},
     "output_type": "display_data"
    }
   ],
   "source": [
    "reviews_pd = business.select(\"stars\").dropna().toPandas()\n",
    "\n",
    "# Plot\n",
    "plt.figure(figsize=(8, 5))\n",
    "sns.boxplot(x=reviews_pd[\"stars\"])\n",
    "plt.title(\"Boxplot of Review Ratings\")\n",
    "plt.xlabel(\"Stars\")\n",
    "plt.show()"
   ]
  },
  {
   "cell_type": "code",
   "execution_count": 47,
   "id": "03d254fd-5f28-48c5-a0a6-09d4206d77e6",
   "metadata": {
    "execution": {
     "iopub.execute_input": "2025-10-24T18:40:23.504915Z",
     "iopub.status.busy": "2025-10-24T18:40:23.504095Z",
     "iopub.status.idle": "2025-10-24T18:40:24.740172Z",
     "shell.execute_reply": "2025-10-24T18:40:24.739324Z",
     "shell.execute_reply.started": "2025-10-24T18:40:23.504858Z"
    }
   },
   "outputs": [
    {
     "data": {
      "image/png": "[encoded data removed]",
      "text/plain": [
       "<Figure size 800x500 with 1 Axes>"
      ]
     },
     "metadata": {},
     "output_type": "display_data"
    }
   ],
   "source": [
    "reviews_pd = business.select(\"stars\").dropna().toPandas()\n",
    "\n",
    "plt.figure(figsize=(8,5))\n",
    "plt.hist(reviews_pd[\"stars\"], bins=5, edgecolor=\"k\")  # 1 bin per star\n",
    "plt.title(\"Distribution of Star Ratings\")\n",
    "plt.xlabel(\"Stars\")\n",
    "plt.ylabel(\"Number of Reviews\")\n",
    "plt.show()"
   ]
  },
  {
   "cell_type": "code",
   "execution_count": 33,
   "id": "ddc14309-9e24-4170-b182-3096258d5924",
   "metadata": {
    "execution": {
     "iopub.execute_input": "2025-10-24T18:31:30.490574Z",
     "iopub.status.busy": "2025-10-24T18:31:30.489688Z",
     "iopub.status.idle": "2025-10-24T18:31:30.543376Z",
     "shell.execute_reply": "2025-10-24T18:31:30.541387Z",
     "shell.execute_reply.started": "2025-10-24T18:31:30.490500Z"
    },
    "tags": []
   },
   "outputs": [],
   "source": [
    "star5 = (\n",
    "    business.groupby('business_id', 'name') \\\n",
    "                .agg(\n",
    "                    F.avg(\"stars\").alias(\"avg_stars\"),\n",
    "                    F.count(\"*\").alias(\"count\")\n",
    "                                      )\n",
    "                .filter((F.col(\"avg_stars\") == 5) & (F.col(\"count\") >= 500))\n",
    "    )\n",
    "    "
   ]
  },
  {
   "cell_type": "code",
   "execution_count": 30,
   "id": "15aa5a9b-d1b7-4ee1-8854-3e0ccfbdabc8",
   "metadata": {
    "execution": {
     "iopub.execute_input": "2025-10-24T18:31:14.106751Z",
     "iopub.status.busy": "2025-10-24T18:31:14.106098Z",
     "iopub.status.idle": "2025-10-24T18:31:14.148819Z",
     "shell.execute_reply": "2025-10-24T18:31:14.147411Z",
     "shell.execute_reply.started": "2025-10-24T18:31:14.106699Z"
    },
    "tags": []
   },
   "outputs": [],
   "source": [
    "star5 = (\n",
    "    business.groupBy(\"business_id\", \"name\")\n",
    "            .agg(\n",
    "                F.avg(\"stars\").alias(\"avg_stars\"),\n",
    "                F.count(\"*\").alias(\"review_count\")\n",
    "            )\n",
    "            .filter((F.col(\"avg_stars\") == 5) & (F.col(\"review_count\") >= 500))\n",
    ")"
   ]
  },
  {
   "cell_type": "code",
   "execution_count": 34,
   "id": "b872f67d-8930-442c-bf61-fdaddc59506e",
   "metadata": {
    "execution": {
     "iopub.execute_input": "2025-10-24T18:31:32.604559Z",
     "iopub.status.busy": "2025-10-24T18:31:32.603779Z",
     "iopub.status.idle": "2025-10-24T18:31:33.433898Z",
     "shell.execute_reply": "2025-10-24T18:31:33.433068Z",
     "shell.execute_reply.started": "2025-10-24T18:31:32.604504Z"
    },
    "tags": []
   },
   "outputs": [
    {
     "name": "stdout",
     "output_type": "stream",
     "text": [
      "+-----------+----+---------+-----+\n",
      "|business_id|name|avg_stars|count|\n",
      "+-----------+----+---------+-----+\n",
      "+-----------+----+---------+-----+\n",
      "\n"
     ]
    }
   ],
   "source": [
    "star5.show()"
   ]
  },
  {
   "cell_type": "code",
   "execution_count": null,
   "id": "cc31d1a2-3571-49cd-af5a-98d6d23027de",
   "metadata": {
    "tags": []
   },
   "outputs": [],
   "source": [
    "# OPTIONAL:\n",
    "# Reduce resource usage and make queries run faster\n",
    "# by only using a small sample of the dataframe\n",
    "# and overwriting previous variable \"df\".\n",
    "# Useful while developing, not so much to\n",
    "# provide final answers. Therefore: Remember to \n",
    "# to re-read the df when done developing code using\n",
    "# df = spark.read etc like above.\n",
    "reviews = reviews.sample(withReplacement=False, fraction=1/50)\n",
    "\n",
    "# Get number of rows after sampling:\n",
    "reviews.count() "
   ]
  },
  {
   "cell_type": "code",
   "execution_count": null,
   "id": "20087cdb-d6f2-4aab-9fe2-bf3f072044db",
   "metadata": {
    "tags": []
   },
   "outputs": [],
   "source": [
    "business.show()"
   ]
  },
  {
   "cell_type": "markdown",
   "id": "7d258fa6-1402-4c3a-a252-a9dbfd4a87d9",
   "metadata": {},
   "source": [
    "Example: Say we're only interested in reviews of good mexican restaurants in Arizona. You can delete this when you do your own thing. "
   ]
  },
  {
   "cell_type": "code",
   "execution_count": 6,
   "id": "393ad548-3ae3-49dd-863f-50a55c3125cd",
   "metadata": {
    "execution": {
     "iopub.execute_input": "2025-10-24T16:34:19.983380Z",
     "iopub.status.busy": "2025-10-24T16:34:19.982494Z",
     "iopub.status.idle": "2025-10-24T16:34:19.993410Z",
     "shell.execute_reply": "2025-10-24T16:34:19.992246Z",
     "shell.execute_reply.started": "2025-10-24T16:34:19.983320Z"
    }
   },
   "outputs": [
    {
     "data": {
      "text/plain": [
       "['business_id',\n",
       " 'cool',\n",
       " 'date',\n",
       " 'funny',\n",
       " 'review_id',\n",
       " 'stars',\n",
       " 'text',\n",
       " 'useful',\n",
       " 'user_id']"
      ]
     },
     "execution_count": 6,
     "metadata": {},
     "output_type": "execute_result"
    }
   ],
   "source": [
    "reviews.columns"
   ]
  },
  {
   "cell_type": "code",
   "execution_count": null,
   "id": "07983acb-15d8-45ea-9d12-3bc8759280b4",
   "metadata": {
    "tags": []
   },
   "outputs": [],
   "source": [
    "# Filter to only Arizona businesses with \"Mexican\" as part of their categories\n",
    "az_mex = business.filter(business.state == \"AZ\")\\\n",
    "                .filter(business.categories.rlike(\"Mexican\"))\\\n",
    "                .select(\"business_id\", \"name\")\n",
    "\n",
    "# Join with the reviews\n",
    "az_mex_rs = reviews.join(az_mex, on=\"business_id\", how=\"inner\")\n",
    "\n",
    "# Filter to only 5 star reviews\n",
    "good_az_mex_rs = az_mex_rs.filter(az_mex_rs.stars == 5)\\\n",
    "                        .select(\"name\",\"text\")\n",
    "\n",
    "# Print the top 20 rows of the DataFrame\n",
    "good_az_mex_rs.show()\n",
    "\n",
    "# Convert to pandas (local object) and save to local file system\n",
    "good_az_mex_rs.toPandas().to_csv(\"good_az_reviews.csv\", header=True, index=False, encoding='utf-8')\n"
   ]
  },
  {
   "cell_type": "markdown",
   "id": "0d9d265d-cba4-4ade-851e-dad67771864b",
   "metadata": {},
   "source": [
    "See assignment PDF for task descriptions."
   ]
  },
  {
   "cell_type": "markdown",
   "id": "5b394058",
   "metadata": {},
   "source": [
    "### Task 3.1.1:"
   ]
  },
  {
   "cell_type": "code",
   "execution_count": null,
   "id": "ee564c11",
   "metadata": {},
   "outputs": [],
   "source": [
    "# Write your code here..."
   ]
  },
  {
   "cell_type": "markdown",
   "id": "64a546fb",
   "metadata": {},
   "source": [
    "### Task 3.1.2:"
   ]
  },
  {
   "cell_type": "code",
   "execution_count": null,
   "id": "aca680c7",
   "metadata": {},
   "outputs": [],
   "source": [
    "# Write your code here..."
   ]
  },
  {
   "cell_type": "markdown",
   "id": "b39e2a34",
   "metadata": {},
   "source": [
    "### Task 3.1.3: "
   ]
  },
  {
   "cell_type": "code",
   "execution_count": null,
   "id": "54a849fc",
   "metadata": {},
   "outputs": [],
   "source": [
    "# Write your code here..."
   ]
  },
  {
   "cell_type": "markdown",
   "id": "a773c064",
   "metadata": {},
   "source": [
    "### Task 3.1.4: "
   ]
  },
  {
   "cell_type": "code",
   "execution_count": null,
   "id": "3e383e06",
   "metadata": {},
   "outputs": [],
   "source": [
    "# Write your code here..."
   ]
  },
  {
   "cell_type": "markdown",
   "id": "8922a694",
   "metadata": {},
   "source": [
    "### Task 3.1.5: "
   ]
  },
  {
   "cell_type": "code",
   "execution_count": null,
   "id": "64233be8",
   "metadata": {},
   "outputs": [],
   "source": [
    "# Write your code here..."
   ]
  },
  {
   "cell_type": "markdown",
   "id": "6aa6bec7",
   "metadata": {},
   "source": [
    "### Task 3.2.1: Data Exploration"
   ]
  },
  {
   "cell_type": "code",
   "execution_count": null,
   "id": "37eadc69",
   "metadata": {},
   "outputs": [],
   "source": [
    "# Write your code here..."
   ]
  },
  {
   "cell_type": "markdown",
   "id": "8517b579",
   "metadata": {},
   "source": [
    "### Task 3.2.2: Hypothesis Testing"
   ]
  },
  {
   "cell_type": "code",
   "execution_count": null,
   "id": "10fc0e55",
   "metadata": {},
   "outputs": [],
   "source": [
    "# Write your code here..."
   ]
  },
  {
   "cell_type": "markdown",
   "id": "f7e7c1d5",
   "metadata": {},
   "source": [
    "### Task 3.3: Building a Rating Prediction Model"
   ]
  },
  {
   "cell_type": "code",
   "execution_count": null,
   "id": "7143ebd4",
   "metadata": {},
   "outputs": [],
   "source": [
    "# Write your code here..."
   ]
  }
 ],
 "metadata": {
  "kernelspec": {
   "display_name": "Python 3 ",
   "language": "python",
   "name": "python3"
  },
  "language_info": {
   "codemirror_mode": {
    "name": "ipython",
    "version": 3
   },
   "file_extension": ".py",
   "mimetype": "text/x-python",
   "name": "python",
   "nbconvert_exporter": "python",
   "pygments_lexer": "ipython3",
   "version": "3.10.6"
  }
 },
 "nbformat": 4,
 "nbformat_minor": 5
}
